{
 "cells": [
  {
   "cell_type": "markdown",
   "metadata": {},
   "source": [
    "# Install frameworks"
   ]
  },
  {
   "cell_type": "code",
   "execution_count": null,
   "metadata": {},
   "outputs": [],
   "source": [
    "# %pip install facebook_scraper pandas"
   ]
  },
  {
   "cell_type": "markdown",
   "metadata": {},
   "source": [
    "# Import frameworks"
   ]
  },
  {
   "cell_type": "code",
   "execution_count": 1,
   "metadata": {},
   "outputs": [
    {
     "name": "stderr",
     "output_type": "stream",
     "text": [
      "/Library/Frameworks/Python.framework/Versions/3.11/lib/python3.11/site-packages/tqdm/auto.py:21: TqdmWarning: IProgress not found. Please update jupyter and ipywidgets. See https://ipywidgets.readthedocs.io/en/stable/user_install.html\n",
      "  from .autonotebook import tqdm as notebook_tqdm\n"
     ]
    }
   ],
   "source": [
    "from facebook_scraper import *\n",
    "from facebook_scraper import get_profile\n",
    "import pandas as pd\n",
    "import time\n",
    "import numpy as np"
   ]
  },
  {
   "cell_type": "markdown",
   "metadata": {},
   "source": [
    "# Setup"
   ]
  },
  {
   "cell_type": "code",
   "execution_count": 2,
   "metadata": {},
   "outputs": [],
   "source": [
    "FANPAGE_LINK =\"diana.vietnam\"\n",
    "FOLDER_PATH = \"/Users/khai/Documents/final-project-vankhaipro-main/Data\"\n",
    "COOKIE_PATH = \"Data/facebook.com_cookies.txt\"\n",
    "\n",
    "PAGES_NUMBER = 100 # Number of pages to crawl"
   ]
  },
  {
   "cell_type": "code",
   "execution_count": 3,
   "metadata": {},
   "outputs": [],
   "source": [
    "results = [] # List of results\n",
    "start_url = None # Url to start crawling from facebook\n",
    "def handle_pagination_url(url):\n",
    "    global start_url\n",
    "    start_url = url"
   ]
  },
  {
   "cell_type": "markdown",
   "metadata": {},
   "source": [
    "\n",
    "\n",
    "\n",
    "\n",
    "# Crawling\n"
   ]
  },
  {
   "cell_type": "code",
   "execution_count": 4,
   "metadata": {},
   "outputs": [
    {
     "name": "stderr",
     "output_type": "stream",
     "text": [
      "/Library/Frameworks/Python.framework/Versions/3.11/lib/python3.11/site-packages/facebook_scraper/facebook_scraper.py:855: UserWarning: Facebook language detected as vi_VN - for best results, set to en_US\n",
      "  warnings.warn(\n"
     ]
    },
    {
     "name": "stdout",
     "output_type": "stream",
     "text": [
      "All done\n"
     ]
    }
   ],
   "source": [
    "set_cookies(COOKIE_PATH)\n",
    "while True:\n",
    "    try:\n",
    "        for post in get_posts(FANPAGE_LINK, pages=30 , start_url=start_url, request_url_callback=handle_pagination_url,\n",
    "                              options={\"comments\": 50, \"reactions\": False, \n",
    "                                       \"reactors\": False, \"shared_text\": False, \"post_url\": False}):\n",
    "            results.append(post)\n",
    "        print(\"All done\")\n",
    "        break\n",
    "    except exceptions.TemporarilyBanned:\n",
    "        print(\"Temporarily banned, sleeping for 10m\")\n",
    "        if len(results) > 0:\n",
    "            f = open(\"start_url.txt\", \"a\")\n",
    "            f.write(start_url + \"\\n\")\n",
    "            f.close()\n",
    "        time.sleep(600)\n",
    "        set_cookies(COOKIE_PATH)\n",
    "    except exceptions.AccountDisabled:\n",
    "        print(\"Temporarily banned, sleeping for 10m\")\n",
    "        if len(results) > 0:\n",
    "            f = open(\"start_url.txt\", \"w\")\n",
    "            f.write(start_url + \"\\n\")\n",
    "            f.close()\n",
    "        time.sleep(600)\n",
    "        set_cookies(COOKIE_PATH)"
   ]
  },
  {
   "cell_type": "markdown",
   "metadata": {},
   "source": [
    "# Save URL"
   ]
  },
  {
   "cell_type": "code",
   "execution_count": 11,
   "metadata": {},
   "outputs": [],
   "source": [
    "f = open(\"start_url.txt\", \"w\")\n",
    "f.write(start_url + \"\\n\")\n",
    "f.close()"
   ]
  },
  {
   "cell_type": "markdown",
   "metadata": {},
   "source": [
    "# Save data"
   ]
  },
  {
   "cell_type": "code",
   "execution_count": 17,
   "metadata": {},
   "outputs": [
    {
     "ename": "IndexError",
     "evalue": "list index out of range",
     "output_type": "error",
     "traceback": [
      "\u001b[0;31m---------------------------------------------------------------------------\u001b[0m",
      "\u001b[0;31mIndexError\u001b[0m                                Traceback (most recent call last)",
      "\u001b[1;32m/Users/khai/Documents/final-project-vankhaipro-main/Crawl_Comments.ipynb Cell 13\u001b[0m line \u001b[0;36m2\n\u001b[1;32m      <a href='vscode-notebook-cell:/Users/khai/Documents/final-project-vankhaipro-main/Crawl_Comments.ipynb#X15sZmlsZQ%3D%3D?line=0'>1</a>\u001b[0m \u001b[39m# Initialize dataframe to scrape Facebook post\u001b[39;00m\n\u001b[0;32m----> <a href='vscode-notebook-cell:/Users/khai/Documents/final-project-vankhaipro-main/Crawl_Comments.ipynb#X15sZmlsZQ%3D%3D?line=1'>2</a>\u001b[0m post_df_full \u001b[39m=\u001b[39m pd\u001b[39m.\u001b[39mDataFrame(columns\u001b[39m=\u001b[39mresults[\u001b[39m0\u001b[39;49m]\u001b[39m.\u001b[39mkeys(), index\u001b[39m=\u001b[39m\u001b[39mrange\u001b[39m(\u001b[39mlen\u001b[39m(results)), data\u001b[39m=\u001b[39mresults)\n\u001b[1;32m      <a href='vscode-notebook-cell:/Users/khai/Documents/final-project-vankhaipro-main/Crawl_Comments.ipynb#X15sZmlsZQ%3D%3D?line=2'>3</a>\u001b[0m \u001b[39m# To df\u001b[39;00m\n\u001b[1;32m      <a href='vscode-notebook-cell:/Users/khai/Documents/final-project-vankhaipro-main/Crawl_Comments.ipynb#X15sZmlsZQ%3D%3D?line=3'>4</a>\u001b[0m path\u001b[39m=\u001b[39mFOLDER_PATH \u001b[39m+\u001b[39m \u001b[39m'\u001b[39m\u001b[39mDiana_Comments\u001b[39m\u001b[39m'\u001b[39m\n",
      "\u001b[0;31mIndexError\u001b[0m: list index out of range"
     ]
    }
   ],
   "source": [
    "# Initialize dataframe to scrape Facebook post\n",
    "post_df_full = pd.DataFrame(columns=results[0].keys(), index=range(len(results)), data=results)\n",
    "# To df\n",
    "path=FOLDER_PATH + 'Diana_Comments'\n",
    "post_df_full.to_csv(path + '.csv', index=False)\n",
    "# print(path)\n",
    "post_np_full = np.array(post_df_full)\n",
    "np.save(path + \".npy\", post_np_full)"
   ]
  },
  {
   "cell_type": "code",
   "execution_count": null,
   "metadata": {},
   "outputs": [],
   "source": [
    "post_df_full.to_excel(path + '.xlsx', index=False)"
   ]
  }
 ],
 "metadata": {
  "kernelspec": {
   "display_name": "Python 3",
   "language": "python",
   "name": "python3"
  },
  "language_info": {
   "codemirror_mode": {
    "name": "ipython",
    "version": 3
   },
   "file_extension": ".py",
   "mimetype": "text/x-python",
   "name": "python",
   "nbconvert_exporter": "python",
   "pygments_lexer": "ipython3",
   "version": "3.11.4"
  }
 },
 "nbformat": 4,
 "nbformat_minor": 2
}
