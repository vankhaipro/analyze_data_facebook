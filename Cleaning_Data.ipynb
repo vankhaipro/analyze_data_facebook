{
 "cells": [
  {
   "cell_type": "code",
   "execution_count": 2,
   "metadata": {},
   "outputs": [],
   "source": [
    "import numpy as np\n",
    "import pandas as pd\n",
    "import matplotlib.pyplot as plt\n",
    "import seaborn as sns"
   ]
  },
  {
   "cell_type": "code",
   "execution_count": 6,
   "metadata": {},
   "outputs": [],
   "source": [
    "raw_df = pd.read_csv('Data/Datadiana.vietnam.csv')\n"
   ]
  },
  {
   "cell_type": "code",
   "execution_count": 7,
   "metadata": {},
   "outputs": [
    {
     "name": "stdout",
     "output_type": "stream",
     "text": [
      "<class 'pandas.core.frame.DataFrame'>\n",
      "RangeIndex: 800 entries, 0 to 799\n",
      "Data columns (total 51 columns):\n",
      " #   Column                         Non-Null Count  Dtype  \n",
      "---  ------                         --------------  -----  \n",
      " 0   post_id                        800 non-null    int64  \n",
      " 1   text                           715 non-null    object \n",
      " 2   post_text                      713 non-null    object \n",
      " 3   shared_text                    68 non-null     object \n",
      " 4   original_text                  0 non-null      float64\n",
      " 5   time                           800 non-null    object \n",
      " 6   timestamp                      800 non-null    int64  \n",
      " 7   image                          437 non-null    object \n",
      " 8   image_lowquality               800 non-null    object \n",
      " 9   images                         783 non-null    object \n",
      " 10  images_description             783 non-null    object \n",
      " 11  images_lowquality              800 non-null    object \n",
      " 12  images_lowquality_description  800 non-null    object \n",
      " 13  video                          318 non-null    object \n",
      " 14  video_duration_seconds         0 non-null      float64\n",
      " 15  video_height                   0 non-null      float64\n",
      " 16  video_id                       318 non-null    float64\n",
      " 17  video_quality                  0 non-null      float64\n",
      " 18  video_size_MB                  0 non-null      float64\n",
      " 19  video_thumbnail                318 non-null    object \n",
      " 20  video_watches                  0 non-null      float64\n",
      " 21  video_width                    0 non-null      float64\n",
      " 22  likes                          667 non-null    float64\n",
      " 23  comments                       800 non-null    int64  \n",
      " 24  shares                         800 non-null    int64  \n",
      " 25  post_url                       800 non-null    object \n",
      " 26  link                           326 non-null    object \n",
      " 27  links                          800 non-null    object \n",
      " 28  user_id                        791 non-null    float64\n",
      " 29  username                       800 non-null    object \n",
      " 30  user_url                       800 non-null    object \n",
      " 31  is_live                        800 non-null    bool   \n",
      " 32  factcheck                      0 non-null      float64\n",
      " 33  shared_post_id                 2 non-null      float64\n",
      " 34  shared_time                    2 non-null      object \n",
      " 35  shared_user_id                 2 non-null      float64\n",
      " 36  shared_username                2 non-null      object \n",
      " 37  shared_post_url                2 non-null      object \n",
      " 38  available                      800 non-null    bool   \n",
      " 39  comments_full                  800 non-null    object \n",
      " 40  reactors                       133 non-null    object \n",
      " 41  w3_fb_url                      133 non-null    object \n",
      " 42  reactions                      133 non-null    object \n",
      " 43  reaction_count                 800 non-null    int64  \n",
      " 44  with                           17 non-null     object \n",
      " 45  page_id                        791 non-null    float64\n",
      " 46  sharers                        0 non-null      float64\n",
      " 47  image_id                       312 non-null    float64\n",
      " 48  image_ids                      800 non-null    object \n",
      " 49  was_live                       800 non-null    bool   \n",
      " 50  fetched_time                   133 non-null    object \n",
      "dtypes: bool(3), float64(16), int64(5), object(27)\n",
      "memory usage: 302.5+ KB\n"
     ]
    }
   ],
   "source": [
    "raw_df.info()"
   ]
  },
  {
   "cell_type": "code",
   "execution_count": 8,
   "metadata": {},
   "outputs": [
    {
     "data": {
      "text/plain": [
       "Index(['post_id', 'text', 'post_text', 'shared_text', 'original_text', 'time',\n",
       "       'timestamp', 'image', 'image_lowquality', 'images',\n",
       "       'images_description', 'images_lowquality',\n",
       "       'images_lowquality_description', 'video', 'video_duration_seconds',\n",
       "       'video_height', 'video_id', 'video_quality', 'video_size_MB',\n",
       "       'video_thumbnail', 'video_watches', 'video_width', 'likes', 'comments',\n",
       "       'shares', 'post_url', 'link', 'links', 'user_id', 'username',\n",
       "       'user_url', 'is_live', 'factcheck', 'shared_post_id', 'shared_time',\n",
       "       'shared_user_id', 'shared_username', 'shared_post_url', 'available',\n",
       "       'comments_full', 'reactors', 'w3_fb_url', 'reactions', 'reaction_count',\n",
       "       'with', 'page_id', 'sharers', 'image_id', 'image_ids', 'was_live',\n",
       "       'fetched_time'],\n",
       "      dtype='object')"
      ]
     },
     "execution_count": 8,
     "metadata": {},
     "output_type": "execute_result"
    }
   ],
   "source": [
    "raw_df.columns"
   ]
  },
  {
   "cell_type": "markdown",
   "metadata": {},
   "source": [
    "## Post data\n"
   ]
  },
  {
   "cell_type": "code",
   "execution_count": 9,
   "metadata": {},
   "outputs": [
    {
     "data": {
      "text/plain": [
       "(800, 15)"
      ]
     },
     "execution_count": 9,
     "metadata": {},
     "output_type": "execute_result"
    }
   ],
   "source": [
    "df = raw_df.drop(['image_lowquality','images','images_description','images_lowquality','images_lowquality_description',\n",
    "                 'video_duration_seconds','video_height','video_size_MB','video_quality','video','video_id','likes','is_live','shared_post_id','shared_time','shared_user_id','shared_username','shared_post_url','available'\n",
    "                 ,'w3_fb_url','with','sharers','image_id','image_ids','was_live','video_watches','user_id','username','text','image','links',\n",
    "                 'video_thumbnail','video_width','factcheck','available','sharers','shared_text','original_text',],axis='columns')\n",
    "df.shape"
   ]
  },
  {
   "cell_type": "code",
   "execution_count": 10,
   "metadata": {},
   "outputs": [
    {
     "data": {
      "text/plain": [
       "post_id           800\n",
       "post_text         713\n",
       "time              800\n",
       "timestamp         800\n",
       "comments          800\n",
       "shares            800\n",
       "post_url          800\n",
       "link              326\n",
       "user_url          800\n",
       "comments_full     800\n",
       "reactors          133\n",
       "reactions         133\n",
       "reaction_count    800\n",
       "page_id           791\n",
       "fetched_time      133\n",
       "dtype: int64"
      ]
     },
     "execution_count": 10,
     "metadata": {},
     "output_type": "execute_result"
    }
   ],
   "source": [
    "df.notnull().sum()"
   ]
  },
  {
   "cell_type": "code",
   "execution_count": 11,
   "metadata": {},
   "outputs": [],
   "source": [
    "df = df[df['reactions'].notnull()]"
   ]
  },
  {
   "cell_type": "code",
   "execution_count": 12,
   "metadata": {},
   "outputs": [
    {
     "data": {
      "text/plain": [
       "post_id            0\n",
       "post_text         36\n",
       "time               0\n",
       "timestamp          0\n",
       "comments           0\n",
       "shares             0\n",
       "post_url           0\n",
       "link              93\n",
       "user_url           0\n",
       "comments_full      0\n",
       "reactors           0\n",
       "reactions          0\n",
       "reaction_count     0\n",
       "page_id            7\n",
       "fetched_time       0\n",
       "dtype: int64"
      ]
     },
     "execution_count": 12,
     "metadata": {},
     "output_type": "execute_result"
    }
   ],
   "source": [
    "df.isnull().sum()"
   ]
  },
  {
   "cell_type": "code",
   "execution_count": 13,
   "metadata": {},
   "outputs": [
    {
     "name": "stderr",
     "output_type": "stream",
     "text": [
      "/var/folders/hw/3fmvf1y96hv_gfj7yxwtz2n40000gn/T/ipykernel_29666/2705042730.py:1: FutureWarning: Setting an item of incompatible dtype is deprecated and will raise in a future error of pandas. Value 'Không có' has dtype incompatible with float64, please explicitly cast to a compatible dtype first.\n",
      "  df.fillna(\"Không có\",inplace=True)\n"
     ]
    }
   ],
   "source": [
    "df.fillna(\"Không có\",inplace=True)\n"
   ]
  },
  {
   "cell_type": "code",
   "execution_count": 14,
   "metadata": {},
   "outputs": [
    {
     "name": "stderr",
     "output_type": "stream",
     "text": [
      "/var/folders/hw/3fmvf1y96hv_gfj7yxwtz2n40000gn/T/ipykernel_29666/2702294879.py:3: FutureWarning: DataFrame.fillna with 'method' is deprecated and will raise in a future version. Use obj.ffill() or obj.bfill() instead.\n",
      "  df.fillna(method='ffill', axis=0,inplace=True)\n",
      "/var/folders/hw/3fmvf1y96hv_gfj7yxwtz2n40000gn/T/ipykernel_29666/2702294879.py:4: FutureWarning: DataFrame.fillna with 'method' is deprecated and will raise in a future version. Use obj.ffill() or obj.bfill() instead.\n",
      "  df.fillna(method='bfill', axis=0,inplace=True)\n"
     ]
    }
   ],
   "source": [
    "df.replace('[]',np.nan,inplace=True)\n",
    "for i in range(100):\n",
    "    df.fillna(method='ffill', axis=0,inplace=True)\n",
    "    df.fillna(method='bfill', axis=0,inplace=True)"
   ]
  },
  {
   "cell_type": "code",
   "execution_count": 15,
   "metadata": {},
   "outputs": [
    {
     "data": {
      "text/plain": [
       "post_id           0\n",
       "post_text         0\n",
       "time              0\n",
       "timestamp         0\n",
       "comments          0\n",
       "shares            0\n",
       "post_url          0\n",
       "link              0\n",
       "user_url          0\n",
       "comments_full     0\n",
       "reactors          0\n",
       "reactions         0\n",
       "reaction_count    0\n",
       "page_id           0\n",
       "fetched_time      0\n",
       "dtype: int64"
      ]
     },
     "execution_count": 15,
     "metadata": {},
     "output_type": "execute_result"
    }
   ],
   "source": [
    "df.isnull().sum()\n",
    "    "
   ]
  },
  {
   "cell_type": "code",
   "execution_count": 53,
   "metadata": {},
   "outputs": [],
   "source": [
    "df.to_csv('dataset.csv', index=False)\n",
    "df.to_excel('dataset.xlsx', index=False)"
   ]
  },
  {
   "cell_type": "markdown",
   "metadata": {},
   "source": [
    "## Profile comment "
   ]
  },
  {
   "cell_type": "code",
   "execution_count": 4,
   "metadata": {},
   "outputs": [],
   "source": [
    "pr_df = pd.read_excel('DataData_profile.xlsx')"
   ]
  },
  {
   "cell_type": "code",
   "execution_count": 5,
   "metadata": {},
   "outputs": [
    {
     "data": {
      "text/html": [
       "<div>\n",
       "<style scoped>\n",
       "    .dataframe tbody tr th:only-of-type {\n",
       "        vertical-align: middle;\n",
       "    }\n",
       "\n",
       "    .dataframe tbody tr th {\n",
       "        vertical-align: top;\n",
       "    }\n",
       "\n",
       "    .dataframe thead th {\n",
       "        text-align: right;\n",
       "    }\n",
       "</style>\n",
       "<table border=\"1\" class=\"dataframe\">\n",
       "  <thead>\n",
       "    <tr style=\"text-align: right;\">\n",
       "      <th></th>\n",
       "      <th>top_post</th>\n",
       "      <th>Friend_count</th>\n",
       "      <th>Follower_count</th>\n",
       "      <th>Following_count</th>\n",
       "      <th>profile_picture</th>\n",
       "      <th>id</th>\n",
       "      <th>Name</th>\n",
       "      <th>Học vấn</th>\n",
       "      <th>Nơi từng sống</th>\n",
       "      <th>Thông tin cơ bản</th>\n",
       "      <th>Sự kiện trong đời</th>\n",
       "    </tr>\n",
       "  </thead>\n",
       "  <tbody>\n",
       "    <tr>\n",
       "      <th>0</th>\n",
       "      <td>{'post_id': '122118210158046124', 'text': 'Wow...</td>\n",
       "      <td>1058.0</td>\n",
       "      <td>NaN</td>\n",
       "      <td>54.0</td>\n",
       "      <td>https://scontent.fhan14-1.fna.fbcdn.net/v/t39....</td>\n",
       "      <td>61551383723358</td>\n",
       "      <td>Trần Ngân Hà</td>\n",
       "      <td>NaN</td>\n",
       "      <td>Hà Nội\\nTỉnh/Thành phố hiện tại</td>\n",
       "      <td>NaN</td>\n",
       "      <td>NaN</td>\n",
       "    </tr>\n",
       "    <tr>\n",
       "      <th>1</th>\n",
       "      <td>{'post_id': '326348670258439', 'text': 'Siêu p...</td>\n",
       "      <td>NaN</td>\n",
       "      <td>NaN</td>\n",
       "      <td>11.0</td>\n",
       "      <td>NaN</td>\n",
       "      <td>100086499242627</td>\n",
       "      <td>Trúc Quỳnh</td>\n",
       "      <td>NaN</td>\n",
       "      <td>NaN</td>\n",
       "      <td>NaN</td>\n",
       "      <td>NaN</td>\n",
       "    </tr>\n",
       "    <tr>\n",
       "      <th>2</th>\n",
       "      <td>{'post_id': '2108961386121500', 'text': '[MINI...</td>\n",
       "      <td>101.0</td>\n",
       "      <td>NaN</td>\n",
       "      <td>116.0</td>\n",
       "      <td>https://scontent.fhan14-1.fna.fbcdn.net/v/t39....</td>\n",
       "      <td>100010229764939</td>\n",
       "      <td>Ludu Du</td>\n",
       "      <td>Trường Đại học Kinh tế - Luật\\nCao đẳng/Đại học</td>\n",
       "      <td>Kon Tum (thành phố)\\nQuê quán</td>\n",
       "      <td>Nam\\nGiới tính</td>\n",
       "      <td>2020\\nLớn lên ở Kon Tum (thành phố)</td>\n",
       "    </tr>\n",
       "    <tr>\n",
       "      <th>3</th>\n",
       "      <td>{'post_id': '244695054836159', 'text': '[ www....</td>\n",
       "      <td>402.0</td>\n",
       "      <td>NaN</td>\n",
       "      <td>509.0</td>\n",
       "      <td>https://scontent.fhan14-4.fna.fbcdn.net/v/t39....</td>\n",
       "      <td>100078869983052</td>\n",
       "      <td>Tâm Oan Quách</td>\n",
       "      <td>NaN</td>\n",
       "      <td>NaN</td>\n",
       "      <td>NaN</td>\n",
       "      <td>NaN</td>\n",
       "    </tr>\n",
       "    <tr>\n",
       "      <th>4</th>\n",
       "      <td>{'post_id': '1802805876808582', 'text': 'Mn lư...</td>\n",
       "      <td>NaN</td>\n",
       "      <td>NaN</td>\n",
       "      <td>NaN</td>\n",
       "      <td>https://scontent.fhan14-4.fna.fbcdn.net/v/t39....</td>\n",
       "      <td>100012375609568</td>\n",
       "      <td>Thảo Vy Nguyễn</td>\n",
       "      <td>THPT Dl Văn Hiến\\nTrường trung học</td>\n",
       "      <td>Long Khánh\\nTỉnh/Thành phố hiện tại\\nBảo Lộc\\n...</td>\n",
       "      <td>Nữ\\nGiới tính</td>\n",
       "      <td>NaN</td>\n",
       "    </tr>\n",
       "    <tr>\n",
       "      <th>...</th>\n",
       "      <td>...</td>\n",
       "      <td>...</td>\n",
       "      <td>...</td>\n",
       "      <td>...</td>\n",
       "      <td>...</td>\n",
       "      <td>...</td>\n",
       "      <td>...</td>\n",
       "      <td>...</td>\n",
       "      <td>...</td>\n",
       "      <td>...</td>\n",
       "      <td>...</td>\n",
       "    </tr>\n",
       "    <tr>\n",
       "      <th>81</th>\n",
       "      <td>{'post_id': '267703142878652', 'text': '𝐒𝐡𝐢𝐩 𝐜...</td>\n",
       "      <td>NaN</td>\n",
       "      <td>NaN</td>\n",
       "      <td>NaN</td>\n",
       "      <td>https://scontent.fhan14-3.fna.fbcdn.net/v/t39....</td>\n",
       "      <td>100089169034225</td>\n",
       "      <td>Bạn tạm thời bị chặn</td>\n",
       "      <td>NaN</td>\n",
       "      <td>NaN</td>\n",
       "      <td>NaN</td>\n",
       "      <td>NaN</td>\n",
       "    </tr>\n",
       "    <tr>\n",
       "      <th>82</th>\n",
       "      <td>{'post_id': '904388581262129', 'text': 'Bắt gặ...</td>\n",
       "      <td>NaN</td>\n",
       "      <td>NaN</td>\n",
       "      <td>NaN</td>\n",
       "      <td>https://scontent.fhan14-1.fna.fbcdn.net/v/t39....</td>\n",
       "      <td>100050729854790</td>\n",
       "      <td>Bạn tạm thời bị chặn</td>\n",
       "      <td>NaN</td>\n",
       "      <td>NaN</td>\n",
       "      <td>NaN</td>\n",
       "      <td>NaN</td>\n",
       "    </tr>\n",
       "    <tr>\n",
       "      <th>83</th>\n",
       "      <td>{'post_id': '3480486272268680', 'text': '🛒#215...</td>\n",
       "      <td>NaN</td>\n",
       "      <td>NaN</td>\n",
       "      <td>NaN</td>\n",
       "      <td>https://scontent.fhan14-3.fna.fbcdn.net/v/t39....</td>\n",
       "      <td>100009220240646</td>\n",
       "      <td>Bạn tạm thời bị chặn</td>\n",
       "      <td>NaN</td>\n",
       "      <td>NaN</td>\n",
       "      <td>NaN</td>\n",
       "      <td>NaN</td>\n",
       "    </tr>\n",
       "    <tr>\n",
       "      <th>84</th>\n",
       "      <td>{'post_id': '1013525986607659', 'text': 'Chào ...</td>\n",
       "      <td>3668.0</td>\n",
       "      <td>NaN</td>\n",
       "      <td>NaN</td>\n",
       "      <td>https://scontent.fhan14-4.fna.fbcdn.net/v/t39....</td>\n",
       "      <td>100038508000621</td>\n",
       "      <td>Bạn tạm thời bị chặn</td>\n",
       "      <td>NaN</td>\n",
       "      <td>NaN</td>\n",
       "      <td>NaN</td>\n",
       "      <td>NaN</td>\n",
       "    </tr>\n",
       "    <tr>\n",
       "      <th>85</th>\n",
       "      <td>{'post_id': '919320252941326', 'text': '❗LỤA X...</td>\n",
       "      <td>NaN</td>\n",
       "      <td>NaN</td>\n",
       "      <td>NaN</td>\n",
       "      <td>https://scontent.fhan14-1.fna.fbcdn.net/v/t1.6...</td>\n",
       "      <td>100045900781279</td>\n",
       "      <td>Bạn tạm thời bị chặn</td>\n",
       "      <td>NaN</td>\n",
       "      <td>NaN</td>\n",
       "      <td>NaN</td>\n",
       "      <td>NaN</td>\n",
       "    </tr>\n",
       "  </tbody>\n",
       "</table>\n",
       "<p>86 rows × 11 columns</p>\n",
       "</div>"
      ],
      "text/plain": [
       "                                             top_post  Friend_count  \\\n",
       "0   {'post_id': '122118210158046124', 'text': 'Wow...        1058.0   \n",
       "1   {'post_id': '326348670258439', 'text': 'Siêu p...           NaN   \n",
       "2   {'post_id': '2108961386121500', 'text': '[MINI...         101.0   \n",
       "3   {'post_id': '244695054836159', 'text': '[ www....         402.0   \n",
       "4   {'post_id': '1802805876808582', 'text': 'Mn lư...           NaN   \n",
       "..                                                ...           ...   \n",
       "81  {'post_id': '267703142878652', 'text': '𝐒𝐡𝐢𝐩 𝐜...           NaN   \n",
       "82  {'post_id': '904388581262129', 'text': 'Bắt gặ...           NaN   \n",
       "83  {'post_id': '3480486272268680', 'text': '🛒#215...           NaN   \n",
       "84  {'post_id': '1013525986607659', 'text': 'Chào ...        3668.0   \n",
       "85  {'post_id': '919320252941326', 'text': '❗LỤA X...           NaN   \n",
       "\n",
       "    Follower_count  Following_count  \\\n",
       "0              NaN             54.0   \n",
       "1              NaN             11.0   \n",
       "2              NaN            116.0   \n",
       "3              NaN            509.0   \n",
       "4              NaN              NaN   \n",
       "..             ...              ...   \n",
       "81             NaN              NaN   \n",
       "82             NaN              NaN   \n",
       "83             NaN              NaN   \n",
       "84             NaN              NaN   \n",
       "85             NaN              NaN   \n",
       "\n",
       "                                      profile_picture               id  \\\n",
       "0   https://scontent.fhan14-1.fna.fbcdn.net/v/t39....   61551383723358   \n",
       "1                                                 NaN  100086499242627   \n",
       "2   https://scontent.fhan14-1.fna.fbcdn.net/v/t39....  100010229764939   \n",
       "3   https://scontent.fhan14-4.fna.fbcdn.net/v/t39....  100078869983052   \n",
       "4   https://scontent.fhan14-4.fna.fbcdn.net/v/t39....  100012375609568   \n",
       "..                                                ...              ...   \n",
       "81  https://scontent.fhan14-3.fna.fbcdn.net/v/t39....  100089169034225   \n",
       "82  https://scontent.fhan14-1.fna.fbcdn.net/v/t39....  100050729854790   \n",
       "83  https://scontent.fhan14-3.fna.fbcdn.net/v/t39....  100009220240646   \n",
       "84  https://scontent.fhan14-4.fna.fbcdn.net/v/t39....  100038508000621   \n",
       "85  https://scontent.fhan14-1.fna.fbcdn.net/v/t1.6...  100045900781279   \n",
       "\n",
       "                    Name                                          Học vấn  \\\n",
       "0           Trần Ngân Hà                                              NaN   \n",
       "1             Trúc Quỳnh                                              NaN   \n",
       "2                Ludu Du  Trường Đại học Kinh tế - Luật\\nCao đẳng/Đại học   \n",
       "3          Tâm Oan Quách                                              NaN   \n",
       "4         Thảo Vy Nguyễn               THPT Dl Văn Hiến\\nTrường trung học   \n",
       "..                   ...                                              ...   \n",
       "81  Bạn tạm thời bị chặn                                              NaN   \n",
       "82  Bạn tạm thời bị chặn                                              NaN   \n",
       "83  Bạn tạm thời bị chặn                                              NaN   \n",
       "84  Bạn tạm thời bị chặn                                              NaN   \n",
       "85  Bạn tạm thời bị chặn                                              NaN   \n",
       "\n",
       "                                        Nơi từng sống Thông tin cơ bản  \\\n",
       "0                     Hà Nội\\nTỉnh/Thành phố hiện tại              NaN   \n",
       "1                                                 NaN              NaN   \n",
       "2                       Kon Tum (thành phố)\\nQuê quán   Nam\\nGiới tính   \n",
       "3                                                 NaN              NaN   \n",
       "4   Long Khánh\\nTỉnh/Thành phố hiện tại\\nBảo Lộc\\n...    Nữ\\nGiới tính   \n",
       "..                                                ...              ...   \n",
       "81                                                NaN              NaN   \n",
       "82                                                NaN              NaN   \n",
       "83                                                NaN              NaN   \n",
       "84                                                NaN              NaN   \n",
       "85                                                NaN              NaN   \n",
       "\n",
       "                      Sự kiện trong đời  \n",
       "0                                   NaN  \n",
       "1                                   NaN  \n",
       "2   2020\\nLớn lên ở Kon Tum (thành phố)  \n",
       "3                                   NaN  \n",
       "4                                   NaN  \n",
       "..                                  ...  \n",
       "81                                  NaN  \n",
       "82                                  NaN  \n",
       "83                                  NaN  \n",
       "84                                  NaN  \n",
       "85                                  NaN  \n",
       "\n",
       "[86 rows x 11 columns]"
      ]
     },
     "execution_count": 5,
     "metadata": {},
     "output_type": "execute_result"
    }
   ],
   "source": [
    "pr_df"
   ]
  }
 ],
 "metadata": {
  "kernelspec": {
   "display_name": "Python 3",
   "language": "python",
   "name": "python3"
  },
  "language_info": {
   "codemirror_mode": {
    "name": "ipython",
    "version": 3
   },
   "file_extension": ".py",
   "mimetype": "text/x-python",
   "name": "python",
   "nbconvert_exporter": "python",
   "pygments_lexer": "ipython3",
   "version": "3.11.4"
  }
 },
 "nbformat": 4,
 "nbformat_minor": 2
}
